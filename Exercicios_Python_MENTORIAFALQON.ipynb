{
  "nbformat": 4,
  "nbformat_minor": 0,
  "metadata": {
    "colab": {
      "name": "Exercicios_Python_MENTORIAFALQON.ipynb",
      "provenance": [],
      "collapsed_sections": [
        "F2tqe48VGWDP"
      ],
      "authorship_tag": "ABX9TyOrjh6IoM8czuLwjQzukCO+",
      "include_colab_link": true
    },
    "kernelspec": {
      "name": "python3",
      "display_name": "Python 3"
    }
  },
  "cells": [
    {
      "cell_type": "markdown",
      "metadata": {
        "id": "view-in-github",
        "colab_type": "text"
      },
      "source": [
        "<a href=\"https://colab.research.google.com/github/FGalvao77/Bootcamp-Analista-de-Machine-Learning-IGTI/blob/master/Exercicios_Python_MENTORIAFALQON.ipynb\" target=\"_parent\"><img src=\"https://colab.research.google.com/assets/colab-badge.svg\" alt=\"Open In Colab\"/></a>"
      ]
    },
    {
      "cell_type": "markdown",
      "metadata": {
        "id": "F2tqe48VGWDP",
        "colab_type": "text"
      },
      "source": [
        "##__Strings, Listas e Funções__"
      ]
    },
    {
      "cell_type": "markdown",
      "metadata": {
        "id": "wrWmLP-9pReG",
        "colab_type": "text"
      },
      "source": [
        "###_Exércicios:_\n"
      ]
    },
    {
      "cell_type": "markdown",
      "metadata": {
        "id": "Ug1oCT9yFwo_",
        "colab_type": "text"
      },
      "source": [
        "###### 1. Faça um programa que leia `2 strings` e informe o conteúdo delas seguido do seu comprimento.Informe também se as duas strings possuem o __mesmo comprimento e são iguais ou diferentes no conteúdo__."
      ]
    },
    {
      "cell_type": "code",
      "metadata": {
        "id": "kNKJu-XVsv9Q",
        "colab_type": "code",
        "colab": {
          "base_uri": "https://localhost:8080/",
          "height": 221
        },
        "outputId": "acc43172-df1e-4729-80bf-d4678cc57232"
      },
      "source": [
        "# solicitando a digitação de duas palavras e armazenando-as cada palavra em uma variável distinta\n",
        "var_1 = input(\"Digite uma palavra: \")\n",
        "var_2 = input(\"Digite outra palavra: \")\n",
        "\n",
        "# imprimido o conteúdo das variáveis (palavras)\n",
        "print(f\"\\nO conteúdo das variáveis é: \\n>> var_1: '{var_1}' e, \\n>> var_2: '{var_2}'\")\n",
        "print(\"--------------------------------------------------------------------------------------------------\")\n",
        "\n",
        "# contando quantos caracteres tem \"var_1 e var_2\" e mostrando o tipo de variável\n",
        "print(f\"A var_1 tem '{len(var_1)} caracter(es)', e é uma {type(var_1)}.\")\n",
        "print(f\"\\nA var_2 tem '{len(var_2)} caracter(es)', e é uma {type(var_2)}.\")\n",
        "print(\"--------------------------------------------------------------------------------------------------\")\n",
        "\n",
        "# comparando a quantidade de caracteres em cada palavra digitada\n",
        "if (len(var_1)) != (len(var_2)):\n",
        "  print(\"As duas palavras possuem quantidades de caracter(es) diferentes.\")\n",
        "else:\n",
        "  print(\"As duas palavras possuem a mesma quantidades de caracter(es).\")\n",
        "\n"
      ],
      "execution_count": null,
      "outputs": [
        {
          "output_type": "stream",
          "text": [
            "Digite uma palavra: Fernando\n",
            "Digite outra palavra: Galvao\n",
            "\n",
            "O conteúdo das variáveis é: \n",
            ">> var_1: 'Fernando' e, \n",
            ">> var_2: 'Galvao'\n",
            "--------------------------------------------------------------------------------------------------\n",
            "A var_1 tem '8 caracter(es)', e é uma <class 'str'>.\n",
            "\n",
            "A var_2 tem '6 caracter(es)', e é uma <class 'str'>.\n",
            "--------------------------------------------------------------------------------------------------\n",
            "As duas palavras possuem quantidades de caracter(es) diferentes.\n"
          ],
          "name": "stdout"
        }
      ]
    },
    {
      "cell_type": "markdown",
      "metadata": {
        "id": "2YiGFQMEGeBd",
        "colab_type": "text"
      },
      "source": [
        "######2. Faça um programa que permita ao usuário digitar o `seu nome` e em seguida mostre o nome do usuário de `trás para frente` utilizando somente `letras maiúsculas`. __Dica:__ _lembre−se que ao informar o nome o usuário pode digitar letras maiúsculas ou minúsculas._"
      ]
    },
    {
      "cell_type": "code",
      "metadata": {
        "id": "0o6DWoGa85L5",
        "colab_type": "code",
        "colab": {
          "base_uri": "https://localhost:8080/",
          "height": 51
        },
        "outputId": "adf788fa-da6f-46fd-fac4-858897ffbadd"
      },
      "source": [
        "# imprimindo o seu nome de trás para frente em letra maiúscula\n",
        "your_name = input(\"Digite seu nome: \").upper\n",
        "print(your_name()[::-1])"
      ],
      "execution_count": null,
      "outputs": [
        {
          "output_type": "stream",
          "text": [
            "Digite seu nome: Fernando\n",
            "ODNANREF\n"
          ],
          "name": "stdout"
        }
      ]
    },
    {
      "cell_type": "markdown",
      "metadata": {
        "id": "9SMRGuLAGzNj",
        "colab_type": "text"
      },
      "source": [
        "######3. Faça um programa que `solicite o nome do usuário e imprima-o na vertical`."
      ]
    },
    {
      "cell_type": "code",
      "metadata": {
        "id": "nEw0mmI2hduF",
        "colab_type": "code",
        "colab": {
          "base_uri": "https://localhost:8080/",
          "height": 170
        },
        "outputId": "ba735d60-e66c-4dab-ca82-3f7724d67592"
      },
      "source": [
        "# quebrando o nome em caracteres linha a linha\n",
        "name = input(\"Nome: \")\n",
        "for n in name:\n",
        "  print(n)"
      ],
      "execution_count": null,
      "outputs": [
        {
          "output_type": "stream",
          "text": [
            "Nome: Fernando\n",
            "F\n",
            "e\n",
            "r\n",
            "n\n",
            "a\n",
            "n\n",
            "d\n",
            "o\n"
          ],
          "name": "stdout"
        }
      ]
    },
    {
      "cell_type": "code",
      "metadata": {
        "id": "6FtbwMM185EP",
        "colab_type": "code",
        "colab": {
          "base_uri": "https://localhost:8080/",
          "height": 136
        },
        "outputId": "5b47126c-8a05-4fd8-d2be-44e45c065a27"
      },
      "source": [
        "# replicando uma palavra de trás para frente conforme a quantidade de caracter(es) contidas na palavra\n",
        "palavra = input(\"Digite uma palavra: \")\n",
        "for n in palavra:\n",
        "  print(palavra[::-1])\n",
        " "
      ],
      "execution_count": null,
      "outputs": [
        {
          "output_type": "stream",
          "text": [
            "Digite uma palavra: Falqon\n",
            "noqlaF\n",
            "noqlaF\n",
            "noqlaF\n",
            "noqlaF\n",
            "noqlaF\n",
            "noqlaF\n"
          ],
          "name": "stdout"
        }
      ]
    },
    {
      "cell_type": "code",
      "metadata": {
        "id": "utRazBJW81hm",
        "colab_type": "code",
        "colab": {
          "base_uri": "https://localhost:8080/",
          "height": 306
        },
        "outputId": "5a7d29e9-a434-4d0c-f488-e8f333c02a7a"
      },
      "source": [
        "# quebrando em caracter linha a linha em forma de \"escada\"\n",
        "x  = input(\"Digite uma palavra: \")\n",
        "\n",
        "for n in range (len(x)+1):\n",
        "  print(x[:n])"
      ],
      "execution_count": null,
      "outputs": [
        {
          "output_type": "stream",
          "text": [
            "Digite uma palavra: Mentoria Falqon\n",
            "\n",
            "M\n",
            "Me\n",
            "Men\n",
            "Ment\n",
            "Mento\n",
            "Mentor\n",
            "Mentori\n",
            "Mentoria\n",
            "Mentoria \n",
            "Mentoria F\n",
            "Mentoria Fa\n",
            "Mentoria Fal\n",
            "Mentoria Falq\n",
            "Mentoria Falqo\n",
            "Mentoria Falqon\n"
          ],
          "name": "stdout"
        }
      ]
    },
    {
      "cell_type": "code",
      "metadata": {
        "id": "GpDgGQvdFdSy",
        "colab_type": "code",
        "colab": {
          "base_uri": "https://localhost:8080/",
          "height": 306
        },
        "outputId": "a98bce0a-b943-44dd-b995-45921270f53b"
      },
      "source": [
        "# quebrando em caracter linha a linha em forma de \"escada inversa\"\n",
        "x  = input(\"Digite uma palavra: \")\n",
        "\n",
        "for n in range (len(x)+1):\n",
        "  print(x[n:])"
      ],
      "execution_count": null,
      "outputs": [
        {
          "output_type": "stream",
          "text": [
            "Digite uma palavra: Mentoria Falqon\n",
            "Mentoria Falqon\n",
            "entoria Falqon\n",
            "ntoria Falqon\n",
            "toria Falqon\n",
            "oria Falqon\n",
            "ria Falqon\n",
            "ia Falqon\n",
            "a Falqon\n",
            " Falqon\n",
            "Falqon\n",
            "alqon\n",
            "lqon\n",
            "qon\n",
            "on\n",
            "n\n",
            "\n"
          ],
          "name": "stdout"
        }
      ]
    },
    {
      "cell_type": "code",
      "metadata": {
        "id": "Sv4_BdP2FrqE",
        "colab_type": "code",
        "colab": {
          "base_uri": "https://localhost:8080/",
          "height": 578
        },
        "outputId": "564e9dcf-c21c-4eb4-b3fc-5325e9cd5636"
      },
      "source": [
        "# quebrando em caracter linha a linha em forma de \"escada e inversa\"\n",
        "x  = input(\"Digite uma palavra: \")\n",
        "\n",
        "for n in range (len(x)+1):\n",
        "  print(x[:n])\n",
        "\n",
        "for n in range (len(x)+1):\n",
        "  print(x[n:])"
      ],
      "execution_count": null,
      "outputs": [
        {
          "output_type": "stream",
          "text": [
            "Digite uma palavra: Mentoria Falqon\n",
            "\n",
            "M\n",
            "Me\n",
            "Men\n",
            "Ment\n",
            "Mento\n",
            "Mentor\n",
            "Mentori\n",
            "Mentoria\n",
            "Mentoria \n",
            "Mentoria F\n",
            "Mentoria Fa\n",
            "Mentoria Fal\n",
            "Mentoria Falq\n",
            "Mentoria Falqo\n",
            "Mentoria Falqon\n",
            "Mentoria Falqon\n",
            "entoria Falqon\n",
            "ntoria Falqon\n",
            "toria Falqon\n",
            "oria Falqon\n",
            "ria Falqon\n",
            "ia Falqon\n",
            "a Falqon\n",
            " Falqon\n",
            "Falqon\n",
            "alqon\n",
            "lqon\n",
            "qon\n",
            "on\n",
            "n\n",
            "\n"
          ],
          "name": "stdout"
        }
      ]
    },
    {
      "cell_type": "code",
      "metadata": {
        "id": "xv2GuEX3Go3k",
        "colab_type": "code",
        "colab": {
          "base_uri": "https://localhost:8080/",
          "height": 578
        },
        "outputId": "b04e1e87-254d-4cd3-9a07-5194c95db76f"
      },
      "source": [
        "# quebrando em caracter linha a linha em forma de \"escada \"\n",
        "x  = input(\"Digite uma palavra: \")\n",
        "\n",
        "for n in range (len(x)+1):\n",
        "  print(x[n:])\n",
        "\n",
        "for n in range (len(x)+1):\n",
        "  print(x[:n])"
      ],
      "execution_count": null,
      "outputs": [
        {
          "output_type": "stream",
          "text": [
            "Digite uma palavra: Mentoria Falqon\n",
            "Mentoria Falqon\n",
            "entoria Falqon\n",
            "ntoria Falqon\n",
            "toria Falqon\n",
            "oria Falqon\n",
            "ria Falqon\n",
            "ia Falqon\n",
            "a Falqon\n",
            " Falqon\n",
            "Falqon\n",
            "alqon\n",
            "lqon\n",
            "qon\n",
            "on\n",
            "n\n",
            "\n",
            "\n",
            "M\n",
            "Me\n",
            "Men\n",
            "Ment\n",
            "Mento\n",
            "Mentor\n",
            "Mentori\n",
            "Mentoria\n",
            "Mentoria \n",
            "Mentoria F\n",
            "Mentoria Fa\n",
            "Mentoria Fal\n",
            "Mentoria Falq\n",
            "Mentoria Falqo\n",
            "Mentoria Falqon\n"
          ],
          "name": "stdout"
        }
      ]
    },
    {
      "cell_type": "code",
      "metadata": {
        "id": "XFvQBZcSw8Lb",
        "colab_type": "code",
        "colab": {
          "base_uri": "https://localhost:8080/",
          "height": 561
        },
        "outputId": "8bc4740d-1aa6-4865-96f9-96c22b408c79"
      },
      "source": [
        "# imprimindo a palavra em forma gráfica\n",
        "x  = \"MENTORIA_FALQON\"\n",
        "\n",
        "for n in range (len(x)+1):\n",
        "  print(x[n:], x[:n], x[n:], x[:n], x[n:], x[:n], x[n:], x[:n], x[:n], x[n:], x[:n], x[n:], x[:n], x[n:], x[:n], x[n:])\n",
        "\n",
        "for n in range (len(x)+1):\n",
        "  print(x[:n], x[n:], x[:n], x[n:], x[:n], x[n:], x[:n], x[n:], x[n:], x[:n], x[n:], x[:n], x[n:], x[:n], x[n:], x[:n])"
      ],
      "execution_count": null,
      "outputs": [
        {
          "output_type": "stream",
          "text": [
            "MENTORIA_FALQON  MENTORIA_FALQON  MENTORIA_FALQON  MENTORIA_FALQON   MENTORIA_FALQON  MENTORIA_FALQON  MENTORIA_FALQON  MENTORIA_FALQON\n",
            "ENTORIA_FALQON M ENTORIA_FALQON M ENTORIA_FALQON M ENTORIA_FALQON M M ENTORIA_FALQON M ENTORIA_FALQON M ENTORIA_FALQON M ENTORIA_FALQON\n",
            "NTORIA_FALQON ME NTORIA_FALQON ME NTORIA_FALQON ME NTORIA_FALQON ME ME NTORIA_FALQON ME NTORIA_FALQON ME NTORIA_FALQON ME NTORIA_FALQON\n",
            "TORIA_FALQON MEN TORIA_FALQON MEN TORIA_FALQON MEN TORIA_FALQON MEN MEN TORIA_FALQON MEN TORIA_FALQON MEN TORIA_FALQON MEN TORIA_FALQON\n",
            "ORIA_FALQON MENT ORIA_FALQON MENT ORIA_FALQON MENT ORIA_FALQON MENT MENT ORIA_FALQON MENT ORIA_FALQON MENT ORIA_FALQON MENT ORIA_FALQON\n",
            "RIA_FALQON MENTO RIA_FALQON MENTO RIA_FALQON MENTO RIA_FALQON MENTO MENTO RIA_FALQON MENTO RIA_FALQON MENTO RIA_FALQON MENTO RIA_FALQON\n",
            "IA_FALQON MENTOR IA_FALQON MENTOR IA_FALQON MENTOR IA_FALQON MENTOR MENTOR IA_FALQON MENTOR IA_FALQON MENTOR IA_FALQON MENTOR IA_FALQON\n",
            "A_FALQON MENTORI A_FALQON MENTORI A_FALQON MENTORI A_FALQON MENTORI MENTORI A_FALQON MENTORI A_FALQON MENTORI A_FALQON MENTORI A_FALQON\n",
            "_FALQON MENTORIA _FALQON MENTORIA _FALQON MENTORIA _FALQON MENTORIA MENTORIA _FALQON MENTORIA _FALQON MENTORIA _FALQON MENTORIA _FALQON\n",
            "FALQON MENTORIA_ FALQON MENTORIA_ FALQON MENTORIA_ FALQON MENTORIA_ MENTORIA_ FALQON MENTORIA_ FALQON MENTORIA_ FALQON MENTORIA_ FALQON\n",
            "ALQON MENTORIA_F ALQON MENTORIA_F ALQON MENTORIA_F ALQON MENTORIA_F MENTORIA_F ALQON MENTORIA_F ALQON MENTORIA_F ALQON MENTORIA_F ALQON\n",
            "LQON MENTORIA_FA LQON MENTORIA_FA LQON MENTORIA_FA LQON MENTORIA_FA MENTORIA_FA LQON MENTORIA_FA LQON MENTORIA_FA LQON MENTORIA_FA LQON\n",
            "QON MENTORIA_FAL QON MENTORIA_FAL QON MENTORIA_FAL QON MENTORIA_FAL MENTORIA_FAL QON MENTORIA_FAL QON MENTORIA_FAL QON MENTORIA_FAL QON\n",
            "ON MENTORIA_FALQ ON MENTORIA_FALQ ON MENTORIA_FALQ ON MENTORIA_FALQ MENTORIA_FALQ ON MENTORIA_FALQ ON MENTORIA_FALQ ON MENTORIA_FALQ ON\n",
            "N MENTORIA_FALQO N MENTORIA_FALQO N MENTORIA_FALQO N MENTORIA_FALQO MENTORIA_FALQO N MENTORIA_FALQO N MENTORIA_FALQO N MENTORIA_FALQO N\n",
            " MENTORIA_FALQON  MENTORIA_FALQON  MENTORIA_FALQON  MENTORIA_FALQON MENTORIA_FALQON  MENTORIA_FALQON  MENTORIA_FALQON  MENTORIA_FALQON \n",
            " MENTORIA_FALQON  MENTORIA_FALQON  MENTORIA_FALQON  MENTORIA_FALQON MENTORIA_FALQON  MENTORIA_FALQON  MENTORIA_FALQON  MENTORIA_FALQON \n",
            "M ENTORIA_FALQON M ENTORIA_FALQON M ENTORIA_FALQON M ENTORIA_FALQON ENTORIA_FALQON M ENTORIA_FALQON M ENTORIA_FALQON M ENTORIA_FALQON M\n",
            "ME NTORIA_FALQON ME NTORIA_FALQON ME NTORIA_FALQON ME NTORIA_FALQON NTORIA_FALQON ME NTORIA_FALQON ME NTORIA_FALQON ME NTORIA_FALQON ME\n",
            "MEN TORIA_FALQON MEN TORIA_FALQON MEN TORIA_FALQON MEN TORIA_FALQON TORIA_FALQON MEN TORIA_FALQON MEN TORIA_FALQON MEN TORIA_FALQON MEN\n",
            "MENT ORIA_FALQON MENT ORIA_FALQON MENT ORIA_FALQON MENT ORIA_FALQON ORIA_FALQON MENT ORIA_FALQON MENT ORIA_FALQON MENT ORIA_FALQON MENT\n",
            "MENTO RIA_FALQON MENTO RIA_FALQON MENTO RIA_FALQON MENTO RIA_FALQON RIA_FALQON MENTO RIA_FALQON MENTO RIA_FALQON MENTO RIA_FALQON MENTO\n",
            "MENTOR IA_FALQON MENTOR IA_FALQON MENTOR IA_FALQON MENTOR IA_FALQON IA_FALQON MENTOR IA_FALQON MENTOR IA_FALQON MENTOR IA_FALQON MENTOR\n",
            "MENTORI A_FALQON MENTORI A_FALQON MENTORI A_FALQON MENTORI A_FALQON A_FALQON MENTORI A_FALQON MENTORI A_FALQON MENTORI A_FALQON MENTORI\n",
            "MENTORIA _FALQON MENTORIA _FALQON MENTORIA _FALQON MENTORIA _FALQON _FALQON MENTORIA _FALQON MENTORIA _FALQON MENTORIA _FALQON MENTORIA\n",
            "MENTORIA_ FALQON MENTORIA_ FALQON MENTORIA_ FALQON MENTORIA_ FALQON FALQON MENTORIA_ FALQON MENTORIA_ FALQON MENTORIA_ FALQON MENTORIA_\n",
            "MENTORIA_F ALQON MENTORIA_F ALQON MENTORIA_F ALQON MENTORIA_F ALQON ALQON MENTORIA_F ALQON MENTORIA_F ALQON MENTORIA_F ALQON MENTORIA_F\n",
            "MENTORIA_FA LQON MENTORIA_FA LQON MENTORIA_FA LQON MENTORIA_FA LQON LQON MENTORIA_FA LQON MENTORIA_FA LQON MENTORIA_FA LQON MENTORIA_FA\n",
            "MENTORIA_FAL QON MENTORIA_FAL QON MENTORIA_FAL QON MENTORIA_FAL QON QON MENTORIA_FAL QON MENTORIA_FAL QON MENTORIA_FAL QON MENTORIA_FAL\n",
            "MENTORIA_FALQ ON MENTORIA_FALQ ON MENTORIA_FALQ ON MENTORIA_FALQ ON ON MENTORIA_FALQ ON MENTORIA_FALQ ON MENTORIA_FALQ ON MENTORIA_FALQ\n",
            "MENTORIA_FALQO N MENTORIA_FALQO N MENTORIA_FALQO N MENTORIA_FALQO N N MENTORIA_FALQO N MENTORIA_FALQO N MENTORIA_FALQO N MENTORIA_FALQO\n",
            "MENTORIA_FALQON  MENTORIA_FALQON  MENTORIA_FALQON  MENTORIA_FALQON   MENTORIA_FALQON  MENTORIA_FALQON  MENTORIA_FALQON  MENTORIA_FALQON\n"
          ],
          "name": "stdout"
        }
      ]
    },
    {
      "cell_type": "code",
      "metadata": {
        "id": "lwjO1fXaHGSu",
        "colab_type": "code",
        "colab": {
          "base_uri": "https://localhost:8080/",
          "height": 1000
        },
        "outputId": "b2c3a7cb-b459-424a-f851-4ae5801cd897"
      },
      "source": [
        "# quebrando em caracter linha a linha em forma de \"seta \"\n",
        "x  = input(\"Digite uma palavra: \")\n",
        "\n",
        "for n in range (len(x)+1):\n",
        "  print(x[:n], x[n:], x[:n], x[n:], x[:n], x[n:])\n",
        "  print(x[:n], x[n:], x[:n], x[n:], x[:n], x[n:])\n",
        "\n",
        "for n in range (len(x)+1):\n",
        "  print(x[n:], x[:n], x[n:], x[:n], x[n:], x[:n])\n",
        "  print(x[n:], x[:n], x[n:], x[:n], x[n:], x[:n])\n",
        "  "
      ],
      "execution_count": null,
      "outputs": [
        {
          "output_type": "stream",
          "text": [
            "Digite uma palavra: Mentoria_Falqon\n",
            " Mentoria_Falqon  Mentoria_Falqon  Mentoria_Falqon\n",
            " Mentoria_Falqon  Mentoria_Falqon  Mentoria_Falqon\n",
            "M entoria_Falqon M entoria_Falqon M entoria_Falqon\n",
            "M entoria_Falqon M entoria_Falqon M entoria_Falqon\n",
            "Me ntoria_Falqon Me ntoria_Falqon Me ntoria_Falqon\n",
            "Me ntoria_Falqon Me ntoria_Falqon Me ntoria_Falqon\n",
            "Men toria_Falqon Men toria_Falqon Men toria_Falqon\n",
            "Men toria_Falqon Men toria_Falqon Men toria_Falqon\n",
            "Ment oria_Falqon Ment oria_Falqon Ment oria_Falqon\n",
            "Ment oria_Falqon Ment oria_Falqon Ment oria_Falqon\n",
            "Mento ria_Falqon Mento ria_Falqon Mento ria_Falqon\n",
            "Mento ria_Falqon Mento ria_Falqon Mento ria_Falqon\n",
            "Mentor ia_Falqon Mentor ia_Falqon Mentor ia_Falqon\n",
            "Mentor ia_Falqon Mentor ia_Falqon Mentor ia_Falqon\n",
            "Mentori a_Falqon Mentori a_Falqon Mentori a_Falqon\n",
            "Mentori a_Falqon Mentori a_Falqon Mentori a_Falqon\n",
            "Mentoria _Falqon Mentoria _Falqon Mentoria _Falqon\n",
            "Mentoria _Falqon Mentoria _Falqon Mentoria _Falqon\n",
            "Mentoria_ Falqon Mentoria_ Falqon Mentoria_ Falqon\n",
            "Mentoria_ Falqon Mentoria_ Falqon Mentoria_ Falqon\n",
            "Mentoria_F alqon Mentoria_F alqon Mentoria_F alqon\n",
            "Mentoria_F alqon Mentoria_F alqon Mentoria_F alqon\n",
            "Mentoria_Fa lqon Mentoria_Fa lqon Mentoria_Fa lqon\n",
            "Mentoria_Fa lqon Mentoria_Fa lqon Mentoria_Fa lqon\n",
            "Mentoria_Fal qon Mentoria_Fal qon Mentoria_Fal qon\n",
            "Mentoria_Fal qon Mentoria_Fal qon Mentoria_Fal qon\n",
            "Mentoria_Falq on Mentoria_Falq on Mentoria_Falq on\n",
            "Mentoria_Falq on Mentoria_Falq on Mentoria_Falq on\n",
            "Mentoria_Falqo n Mentoria_Falqo n Mentoria_Falqo n\n",
            "Mentoria_Falqo n Mentoria_Falqo n Mentoria_Falqo n\n",
            "Mentoria_Falqon  Mentoria_Falqon  Mentoria_Falqon \n",
            "Mentoria_Falqon  Mentoria_Falqon  Mentoria_Falqon \n",
            "Mentoria_Falqon  Mentoria_Falqon  Mentoria_Falqon \n",
            "Mentoria_Falqon  Mentoria_Falqon  Mentoria_Falqon \n",
            "entoria_Falqon M entoria_Falqon M entoria_Falqon M\n",
            "entoria_Falqon M entoria_Falqon M entoria_Falqon M\n",
            "ntoria_Falqon Me ntoria_Falqon Me ntoria_Falqon Me\n",
            "ntoria_Falqon Me ntoria_Falqon Me ntoria_Falqon Me\n",
            "toria_Falqon Men toria_Falqon Men toria_Falqon Men\n",
            "toria_Falqon Men toria_Falqon Men toria_Falqon Men\n",
            "oria_Falqon Ment oria_Falqon Ment oria_Falqon Ment\n",
            "oria_Falqon Ment oria_Falqon Ment oria_Falqon Ment\n",
            "ria_Falqon Mento ria_Falqon Mento ria_Falqon Mento\n",
            "ria_Falqon Mento ria_Falqon Mento ria_Falqon Mento\n",
            "ia_Falqon Mentor ia_Falqon Mentor ia_Falqon Mentor\n",
            "ia_Falqon Mentor ia_Falqon Mentor ia_Falqon Mentor\n",
            "a_Falqon Mentori a_Falqon Mentori a_Falqon Mentori\n",
            "a_Falqon Mentori a_Falqon Mentori a_Falqon Mentori\n",
            "_Falqon Mentoria _Falqon Mentoria _Falqon Mentoria\n",
            "_Falqon Mentoria _Falqon Mentoria _Falqon Mentoria\n",
            "Falqon Mentoria_ Falqon Mentoria_ Falqon Mentoria_\n",
            "Falqon Mentoria_ Falqon Mentoria_ Falqon Mentoria_\n",
            "alqon Mentoria_F alqon Mentoria_F alqon Mentoria_F\n",
            "alqon Mentoria_F alqon Mentoria_F alqon Mentoria_F\n",
            "lqon Mentoria_Fa lqon Mentoria_Fa lqon Mentoria_Fa\n",
            "lqon Mentoria_Fa lqon Mentoria_Fa lqon Mentoria_Fa\n",
            "qon Mentoria_Fal qon Mentoria_Fal qon Mentoria_Fal\n",
            "qon Mentoria_Fal qon Mentoria_Fal qon Mentoria_Fal\n",
            "on Mentoria_Falq on Mentoria_Falq on Mentoria_Falq\n",
            "on Mentoria_Falq on Mentoria_Falq on Mentoria_Falq\n",
            "n Mentoria_Falqo n Mentoria_Falqo n Mentoria_Falqo\n",
            "n Mentoria_Falqo n Mentoria_Falqo n Mentoria_Falqo\n",
            " Mentoria_Falqon  Mentoria_Falqon  Mentoria_Falqon\n",
            " Mentoria_Falqon  Mentoria_Falqon  Mentoria_Falqon\n"
          ],
          "name": "stdout"
        }
      ]
    },
    {
      "cell_type": "code",
      "metadata": {
        "id": "ub6-CPxaGoYo",
        "colab_type": "code",
        "colab": {
          "base_uri": "https://localhost:8080/",
          "height": 1000
        },
        "outputId": "7cb945e2-da8a-4071-849c-2d01148443ca"
      },
      "source": [
        "# quebrando em caracter linha a linha em forma de \"cascata\"\n",
        "x  = input(\"Digite uma palavra: \")\n",
        "\n",
        "for n in range (len(x)+1):\n",
        "  print(x[-1:n], x[n:-1], x[-1:n], x[n:-1], x[-1:n], x[n:-1])\n",
        "  print(x[-1:n], x[n:-1], x[-1:n], x[n:-1], x[-1:n], x[n:-1])\n",
        "\n",
        "for n in range (len(x)+1):\n",
        "  print(x[n:-1], x[-1:n], x[n:-1], x[-1:n], x[n:-1], x[-1:n])\n",
        "  print(x[n:-1], x[-1:n], x[n:-1], x[-1:n], x[n:-1], x[-1:n])"
      ],
      "execution_count": null,
      "outputs": [
        {
          "output_type": "stream",
          "text": [
            "Digite uma palavra: Mentoria Falqon\n",
            " Mentoria Falqo  Mentoria Falqo  Mentoria Falqo\n",
            " Mentoria Falqo  Mentoria Falqo  Mentoria Falqo\n",
            " entoria Falqo  entoria Falqo  entoria Falqo\n",
            " entoria Falqo  entoria Falqo  entoria Falqo\n",
            " ntoria Falqo  ntoria Falqo  ntoria Falqo\n",
            " ntoria Falqo  ntoria Falqo  ntoria Falqo\n",
            " toria Falqo  toria Falqo  toria Falqo\n",
            " toria Falqo  toria Falqo  toria Falqo\n",
            " oria Falqo  oria Falqo  oria Falqo\n",
            " oria Falqo  oria Falqo  oria Falqo\n",
            " ria Falqo  ria Falqo  ria Falqo\n",
            " ria Falqo  ria Falqo  ria Falqo\n",
            " ia Falqo  ia Falqo  ia Falqo\n",
            " ia Falqo  ia Falqo  ia Falqo\n",
            " a Falqo  a Falqo  a Falqo\n",
            " a Falqo  a Falqo  a Falqo\n",
            "  Falqo   Falqo   Falqo\n",
            "  Falqo   Falqo   Falqo\n",
            " Falqo  Falqo  Falqo\n",
            " Falqo  Falqo  Falqo\n",
            " alqo  alqo  alqo\n",
            " alqo  alqo  alqo\n",
            " lqo  lqo  lqo\n",
            " lqo  lqo  lqo\n",
            " qo  qo  qo\n",
            " qo  qo  qo\n",
            " o  o  o\n",
            " o  o  o\n",
            "     \n",
            "     \n",
            "n  n  n \n",
            "n  n  n \n",
            "Mentoria Falqo  Mentoria Falqo  Mentoria Falqo \n",
            "Mentoria Falqo  Mentoria Falqo  Mentoria Falqo \n",
            "entoria Falqo  entoria Falqo  entoria Falqo \n",
            "entoria Falqo  entoria Falqo  entoria Falqo \n",
            "ntoria Falqo  ntoria Falqo  ntoria Falqo \n",
            "ntoria Falqo  ntoria Falqo  ntoria Falqo \n",
            "toria Falqo  toria Falqo  toria Falqo \n",
            "toria Falqo  toria Falqo  toria Falqo \n",
            "oria Falqo  oria Falqo  oria Falqo \n",
            "oria Falqo  oria Falqo  oria Falqo \n",
            "ria Falqo  ria Falqo  ria Falqo \n",
            "ria Falqo  ria Falqo  ria Falqo \n",
            "ia Falqo  ia Falqo  ia Falqo \n",
            "ia Falqo  ia Falqo  ia Falqo \n",
            "a Falqo  a Falqo  a Falqo \n",
            "a Falqo  a Falqo  a Falqo \n",
            " Falqo   Falqo   Falqo \n",
            " Falqo   Falqo   Falqo \n",
            "Falqo  Falqo  Falqo \n",
            "Falqo  Falqo  Falqo \n",
            "alqo  alqo  alqo \n",
            "alqo  alqo  alqo \n",
            "lqo  lqo  lqo \n",
            "lqo  lqo  lqo \n",
            "qo  qo  qo \n",
            "qo  qo  qo \n",
            "o  o  o \n",
            "o  o  o \n",
            "     \n",
            "     \n",
            " n  n  n\n",
            " n  n  n\n"
          ],
          "name": "stdout"
        }
      ]
    },
    {
      "cell_type": "code",
      "metadata": {
        "id": "JLn8xsPXHYHQ",
        "colab_type": "code",
        "colab": {
          "base_uri": "https://localhost:8080/",
          "height": 1000
        },
        "outputId": "ee854d39-023c-474f-e16a-cfbfa266bb1e"
      },
      "source": [
        "# quebrando em caracter linha a linha em forma de \"cascata\"\n",
        "x  = \"MENTORIA_FALQON\"\n",
        "\n",
        "for n in range (len(x)):\n",
        "  print(x[-1:n], x[n:-1], x[-1:n], x[n:-1], x[-1:n], x[n:-1], x[n:-1], x[-1:n], x[n:-1], x[-1:n], x[n:-1], x[-1:n])\n",
        "  print(x[-1:n], x[n:-1], x[-1:n], x[n:-1], x[-1:n], x[n:-1], x[n:-1], x[-1:n], x[n:-1], x[-1:n], x[n:-1], x[-1:n])\n",
        "\n",
        "for n in range (len(x)):\n",
        "  print(x[n:-1], x[-1:n], x[n:-1], x[-1:n], x[n:-1], x[-1:n], x[-1:n], x[n:-1], x[-1:n], x[n:-1], x[-1:n], x[n:-1])\n",
        "  print(x[n:-1], x[-1:n], x[n:-1], x[-1:n], x[n:-1], x[-1:n], x[-1:n], x[n:-1], x[-1:n], x[n:-1], x[-1:n], x[n:-1])"
      ],
      "execution_count": null,
      "outputs": [
        {
          "output_type": "stream",
          "text": [
            " MENTORIA_FALQO  MENTORIA_FALQO  MENTORIA_FALQO MENTORIA_FALQO  MENTORIA_FALQO  MENTORIA_FALQO \n",
            " MENTORIA_FALQO  MENTORIA_FALQO  MENTORIA_FALQO MENTORIA_FALQO  MENTORIA_FALQO  MENTORIA_FALQO \n",
            " ENTORIA_FALQO  ENTORIA_FALQO  ENTORIA_FALQO ENTORIA_FALQO  ENTORIA_FALQO  ENTORIA_FALQO \n",
            " ENTORIA_FALQO  ENTORIA_FALQO  ENTORIA_FALQO ENTORIA_FALQO  ENTORIA_FALQO  ENTORIA_FALQO \n",
            " NTORIA_FALQO  NTORIA_FALQO  NTORIA_FALQO NTORIA_FALQO  NTORIA_FALQO  NTORIA_FALQO \n",
            " NTORIA_FALQO  NTORIA_FALQO  NTORIA_FALQO NTORIA_FALQO  NTORIA_FALQO  NTORIA_FALQO \n",
            " TORIA_FALQO  TORIA_FALQO  TORIA_FALQO TORIA_FALQO  TORIA_FALQO  TORIA_FALQO \n",
            " TORIA_FALQO  TORIA_FALQO  TORIA_FALQO TORIA_FALQO  TORIA_FALQO  TORIA_FALQO \n",
            " ORIA_FALQO  ORIA_FALQO  ORIA_FALQO ORIA_FALQO  ORIA_FALQO  ORIA_FALQO \n",
            " ORIA_FALQO  ORIA_FALQO  ORIA_FALQO ORIA_FALQO  ORIA_FALQO  ORIA_FALQO \n",
            " RIA_FALQO  RIA_FALQO  RIA_FALQO RIA_FALQO  RIA_FALQO  RIA_FALQO \n",
            " RIA_FALQO  RIA_FALQO  RIA_FALQO RIA_FALQO  RIA_FALQO  RIA_FALQO \n",
            " IA_FALQO  IA_FALQO  IA_FALQO IA_FALQO  IA_FALQO  IA_FALQO \n",
            " IA_FALQO  IA_FALQO  IA_FALQO IA_FALQO  IA_FALQO  IA_FALQO \n",
            " A_FALQO  A_FALQO  A_FALQO A_FALQO  A_FALQO  A_FALQO \n",
            " A_FALQO  A_FALQO  A_FALQO A_FALQO  A_FALQO  A_FALQO \n",
            " _FALQO  _FALQO  _FALQO _FALQO  _FALQO  _FALQO \n",
            " _FALQO  _FALQO  _FALQO _FALQO  _FALQO  _FALQO \n",
            " FALQO  FALQO  FALQO FALQO  FALQO  FALQO \n",
            " FALQO  FALQO  FALQO FALQO  FALQO  FALQO \n",
            " ALQO  ALQO  ALQO ALQO  ALQO  ALQO \n",
            " ALQO  ALQO  ALQO ALQO  ALQO  ALQO \n",
            " LQO  LQO  LQO LQO  LQO  LQO \n",
            " LQO  LQO  LQO LQO  LQO  LQO \n",
            " QO  QO  QO QO  QO  QO \n",
            " QO  QO  QO QO  QO  QO \n",
            " O  O  O O  O  O \n",
            " O  O  O O  O  O \n",
            "           \n",
            "           \n",
            "MENTORIA_FALQO  MENTORIA_FALQO  MENTORIA_FALQO   MENTORIA_FALQO  MENTORIA_FALQO  MENTORIA_FALQO\n",
            "MENTORIA_FALQO  MENTORIA_FALQO  MENTORIA_FALQO   MENTORIA_FALQO  MENTORIA_FALQO  MENTORIA_FALQO\n",
            "ENTORIA_FALQO  ENTORIA_FALQO  ENTORIA_FALQO   ENTORIA_FALQO  ENTORIA_FALQO  ENTORIA_FALQO\n",
            "ENTORIA_FALQO  ENTORIA_FALQO  ENTORIA_FALQO   ENTORIA_FALQO  ENTORIA_FALQO  ENTORIA_FALQO\n",
            "NTORIA_FALQO  NTORIA_FALQO  NTORIA_FALQO   NTORIA_FALQO  NTORIA_FALQO  NTORIA_FALQO\n",
            "NTORIA_FALQO  NTORIA_FALQO  NTORIA_FALQO   NTORIA_FALQO  NTORIA_FALQO  NTORIA_FALQO\n",
            "TORIA_FALQO  TORIA_FALQO  TORIA_FALQO   TORIA_FALQO  TORIA_FALQO  TORIA_FALQO\n",
            "TORIA_FALQO  TORIA_FALQO  TORIA_FALQO   TORIA_FALQO  TORIA_FALQO  TORIA_FALQO\n",
            "ORIA_FALQO  ORIA_FALQO  ORIA_FALQO   ORIA_FALQO  ORIA_FALQO  ORIA_FALQO\n",
            "ORIA_FALQO  ORIA_FALQO  ORIA_FALQO   ORIA_FALQO  ORIA_FALQO  ORIA_FALQO\n",
            "RIA_FALQO  RIA_FALQO  RIA_FALQO   RIA_FALQO  RIA_FALQO  RIA_FALQO\n",
            "RIA_FALQO  RIA_FALQO  RIA_FALQO   RIA_FALQO  RIA_FALQO  RIA_FALQO\n",
            "IA_FALQO  IA_FALQO  IA_FALQO   IA_FALQO  IA_FALQO  IA_FALQO\n",
            "IA_FALQO  IA_FALQO  IA_FALQO   IA_FALQO  IA_FALQO  IA_FALQO\n",
            "A_FALQO  A_FALQO  A_FALQO   A_FALQO  A_FALQO  A_FALQO\n",
            "A_FALQO  A_FALQO  A_FALQO   A_FALQO  A_FALQO  A_FALQO\n",
            "_FALQO  _FALQO  _FALQO   _FALQO  _FALQO  _FALQO\n",
            "_FALQO  _FALQO  _FALQO   _FALQO  _FALQO  _FALQO\n",
            "FALQO  FALQO  FALQO   FALQO  FALQO  FALQO\n",
            "FALQO  FALQO  FALQO   FALQO  FALQO  FALQO\n",
            "ALQO  ALQO  ALQO   ALQO  ALQO  ALQO\n",
            "ALQO  ALQO  ALQO   ALQO  ALQO  ALQO\n",
            "LQO  LQO  LQO   LQO  LQO  LQO\n",
            "LQO  LQO  LQO   LQO  LQO  LQO\n",
            "QO  QO  QO   QO  QO  QO\n",
            "QO  QO  QO   QO  QO  QO\n",
            "O  O  O   O  O  O\n",
            "O  O  O   O  O  O\n",
            "           \n",
            "           \n"
          ],
          "name": "stdout"
        }
      ]
    },
    {
      "cell_type": "code",
      "metadata": {
        "id": "RfHsmC32Hl7A",
        "colab_type": "code",
        "colab": {
          "base_uri": "https://localhost:8080/",
          "height": 629
        },
        "outputId": "1ffcdc51-d389-46d3-d27e-7bfe0841b19b"
      },
      "source": [
        "# quebrando em caracter linha a linha em forma de \"seta \"\n",
        "x  = \"MENTORIA S2 FALQON\"\n",
        "\n",
        "for n in range (len(x)):\n",
        "  print(x[:n], x[n:], x[:n], x[n:], x[:n], x[n:], x[:n], x[n:], x[:n], x[n:], x[:n], x[n:],)\n",
        "\n",
        "for n in range (len(x)):\n",
        "  print(x[n:], x[:n], x[n:], x[:n], x[n:], x[:n], x[n:], x[:n], x[n:], x[:n], x[n:], x[:n],)"
      ],
      "execution_count": null,
      "outputs": [
        {
          "output_type": "stream",
          "text": [
            " MENTORIA S2 FALQON  MENTORIA S2 FALQON  MENTORIA S2 FALQON  MENTORIA S2 FALQON  MENTORIA S2 FALQON  MENTORIA S2 FALQON\n",
            "M ENTORIA S2 FALQON M ENTORIA S2 FALQON M ENTORIA S2 FALQON M ENTORIA S2 FALQON M ENTORIA S2 FALQON M ENTORIA S2 FALQON\n",
            "ME NTORIA S2 FALQON ME NTORIA S2 FALQON ME NTORIA S2 FALQON ME NTORIA S2 FALQON ME NTORIA S2 FALQON ME NTORIA S2 FALQON\n",
            "MEN TORIA S2 FALQON MEN TORIA S2 FALQON MEN TORIA S2 FALQON MEN TORIA S2 FALQON MEN TORIA S2 FALQON MEN TORIA S2 FALQON\n",
            "MENT ORIA S2 FALQON MENT ORIA S2 FALQON MENT ORIA S2 FALQON MENT ORIA S2 FALQON MENT ORIA S2 FALQON MENT ORIA S2 FALQON\n",
            "MENTO RIA S2 FALQON MENTO RIA S2 FALQON MENTO RIA S2 FALQON MENTO RIA S2 FALQON MENTO RIA S2 FALQON MENTO RIA S2 FALQON\n",
            "MENTOR IA S2 FALQON MENTOR IA S2 FALQON MENTOR IA S2 FALQON MENTOR IA S2 FALQON MENTOR IA S2 FALQON MENTOR IA S2 FALQON\n",
            "MENTORI A S2 FALQON MENTORI A S2 FALQON MENTORI A S2 FALQON MENTORI A S2 FALQON MENTORI A S2 FALQON MENTORI A S2 FALQON\n",
            "MENTORIA  S2 FALQON MENTORIA  S2 FALQON MENTORIA  S2 FALQON MENTORIA  S2 FALQON MENTORIA  S2 FALQON MENTORIA  S2 FALQON\n",
            "MENTORIA  S2 FALQON MENTORIA  S2 FALQON MENTORIA  S2 FALQON MENTORIA  S2 FALQON MENTORIA  S2 FALQON MENTORIA  S2 FALQON\n",
            "MENTORIA S 2 FALQON MENTORIA S 2 FALQON MENTORIA S 2 FALQON MENTORIA S 2 FALQON MENTORIA S 2 FALQON MENTORIA S 2 FALQON\n",
            "MENTORIA S2  FALQON MENTORIA S2  FALQON MENTORIA S2  FALQON MENTORIA S2  FALQON MENTORIA S2  FALQON MENTORIA S2  FALQON\n",
            "MENTORIA S2  FALQON MENTORIA S2  FALQON MENTORIA S2  FALQON MENTORIA S2  FALQON MENTORIA S2  FALQON MENTORIA S2  FALQON\n",
            "MENTORIA S2 F ALQON MENTORIA S2 F ALQON MENTORIA S2 F ALQON MENTORIA S2 F ALQON MENTORIA S2 F ALQON MENTORIA S2 F ALQON\n",
            "MENTORIA S2 FA LQON MENTORIA S2 FA LQON MENTORIA S2 FA LQON MENTORIA S2 FA LQON MENTORIA S2 FA LQON MENTORIA S2 FA LQON\n",
            "MENTORIA S2 FAL QON MENTORIA S2 FAL QON MENTORIA S2 FAL QON MENTORIA S2 FAL QON MENTORIA S2 FAL QON MENTORIA S2 FAL QON\n",
            "MENTORIA S2 FALQ ON MENTORIA S2 FALQ ON MENTORIA S2 FALQ ON MENTORIA S2 FALQ ON MENTORIA S2 FALQ ON MENTORIA S2 FALQ ON\n",
            "MENTORIA S2 FALQO N MENTORIA S2 FALQO N MENTORIA S2 FALQO N MENTORIA S2 FALQO N MENTORIA S2 FALQO N MENTORIA S2 FALQO N\n",
            "MENTORIA S2 FALQON  MENTORIA S2 FALQON  MENTORIA S2 FALQON  MENTORIA S2 FALQON  MENTORIA S2 FALQON  MENTORIA S2 FALQON \n",
            "ENTORIA S2 FALQON M ENTORIA S2 FALQON M ENTORIA S2 FALQON M ENTORIA S2 FALQON M ENTORIA S2 FALQON M ENTORIA S2 FALQON M\n",
            "NTORIA S2 FALQON ME NTORIA S2 FALQON ME NTORIA S2 FALQON ME NTORIA S2 FALQON ME NTORIA S2 FALQON ME NTORIA S2 FALQON ME\n",
            "TORIA S2 FALQON MEN TORIA S2 FALQON MEN TORIA S2 FALQON MEN TORIA S2 FALQON MEN TORIA S2 FALQON MEN TORIA S2 FALQON MEN\n",
            "ORIA S2 FALQON MENT ORIA S2 FALQON MENT ORIA S2 FALQON MENT ORIA S2 FALQON MENT ORIA S2 FALQON MENT ORIA S2 FALQON MENT\n",
            "RIA S2 FALQON MENTO RIA S2 FALQON MENTO RIA S2 FALQON MENTO RIA S2 FALQON MENTO RIA S2 FALQON MENTO RIA S2 FALQON MENTO\n",
            "IA S2 FALQON MENTOR IA S2 FALQON MENTOR IA S2 FALQON MENTOR IA S2 FALQON MENTOR IA S2 FALQON MENTOR IA S2 FALQON MENTOR\n",
            "A S2 FALQON MENTORI A S2 FALQON MENTORI A S2 FALQON MENTORI A S2 FALQON MENTORI A S2 FALQON MENTORI A S2 FALQON MENTORI\n",
            " S2 FALQON MENTORIA  S2 FALQON MENTORIA  S2 FALQON MENTORIA  S2 FALQON MENTORIA  S2 FALQON MENTORIA  S2 FALQON MENTORIA\n",
            "S2 FALQON MENTORIA  S2 FALQON MENTORIA  S2 FALQON MENTORIA  S2 FALQON MENTORIA  S2 FALQON MENTORIA  S2 FALQON MENTORIA \n",
            "2 FALQON MENTORIA S 2 FALQON MENTORIA S 2 FALQON MENTORIA S 2 FALQON MENTORIA S 2 FALQON MENTORIA S 2 FALQON MENTORIA S\n",
            " FALQON MENTORIA S2  FALQON MENTORIA S2  FALQON MENTORIA S2  FALQON MENTORIA S2  FALQON MENTORIA S2  FALQON MENTORIA S2\n",
            "FALQON MENTORIA S2  FALQON MENTORIA S2  FALQON MENTORIA S2  FALQON MENTORIA S2  FALQON MENTORIA S2  FALQON MENTORIA S2 \n",
            "ALQON MENTORIA S2 F ALQON MENTORIA S2 F ALQON MENTORIA S2 F ALQON MENTORIA S2 F ALQON MENTORIA S2 F ALQON MENTORIA S2 F\n",
            "LQON MENTORIA S2 FA LQON MENTORIA S2 FA LQON MENTORIA S2 FA LQON MENTORIA S2 FA LQON MENTORIA S2 FA LQON MENTORIA S2 FA\n",
            "QON MENTORIA S2 FAL QON MENTORIA S2 FAL QON MENTORIA S2 FAL QON MENTORIA S2 FAL QON MENTORIA S2 FAL QON MENTORIA S2 FAL\n",
            "ON MENTORIA S2 FALQ ON MENTORIA S2 FALQ ON MENTORIA S2 FALQ ON MENTORIA S2 FALQ ON MENTORIA S2 FALQ ON MENTORIA S2 FALQ\n",
            "N MENTORIA S2 FALQO N MENTORIA S2 FALQO N MENTORIA S2 FALQO N MENTORIA S2 FALQO N MENTORIA S2 FALQO N MENTORIA S2 FALQO\n"
          ],
          "name": "stdout"
        }
      ]
    },
    {
      "cell_type": "markdown",
      "metadata": {
        "id": "isdbnYG_HGRh",
        "colab_type": "text"
      },
      "source": [
        "######4. Faça um programa que leia uma string nome do usuário e imprima-o na vertical."
      ]
    },
    {
      "cell_type": "code",
      "metadata": {
        "id": "4DROxAvMHIk6",
        "colab_type": "code",
        "colab": {}
      },
      "source": [
        ""
      ],
      "execution_count": null,
      "outputs": []
    },
    {
      "cell_type": "markdown",
      "metadata": {
        "id": "mYlfjdhOEBtx",
        "colab_type": "text"
      },
      "source": [
        "###_Exércicios_:"
      ]
    },
    {
      "cell_type": "markdown",
      "metadata": {
        "id": "R2Ijr5deEvH1",
        "colab_type": "text"
      },
      "source": [
        "###### 1. Faça um Programa que leia um `vetor` de __5 números inteiros e mostre-os__."
      ]
    },
    {
      "cell_type": "code",
      "metadata": {
        "id": "BMRYStQJ81fZ",
        "colab_type": "code",
        "colab": {
          "base_uri": "https://localhost:8080/",
          "height": 204
        },
        "outputId": "9209300e-3223-4a72-b038-d3bb89dfefe2"
      },
      "source": [
        "# criando uma lista com 5 números e imprimindo em ordem crescente\n",
        "numeros = []\n",
        "\n",
        "for i in range(5):\n",
        "  print(numeros.append(int(input(\"Digite um número: \"))))\n",
        "numeros_ordenados = sorted(numeros)\n",
        "print(f\"Vetor: {numeros_ordenados}\")\n"
      ],
      "execution_count": null,
      "outputs": [
        {
          "output_type": "stream",
          "text": [
            "Digite um número: 5\n",
            "None\n",
            "Digite um número: 4\n",
            "None\n",
            "Digite um número: 2\n",
            "None\n",
            "Digite um número: 1\n",
            "None\n",
            "Digite um número: 3\n",
            "None\n",
            "Vetor: [1, 2, 3, 4, 5]\n"
          ],
          "name": "stdout"
        }
      ]
    },
    {
      "cell_type": "code",
      "metadata": {
        "id": "Sm_FRSGeL8cI",
        "colab_type": "code",
        "colab": {
          "base_uri": "https://localhost:8080/",
          "height": 238
        },
        "outputId": "b7a3a1ad-a4d0-476c-c9c4-061d337ad3e4"
      },
      "source": [
        "# solictando a quantidade de números na lista e imprimindo em ordem crescente\n",
        "x = int(input(\"Digite a quantidade de números no vetor: \"))\n",
        "num1 = []\n",
        "\n",
        "for i in range(x):\n",
        "  print(num1.append(int(input(\"Digite um número: \"))))\n",
        "num1_ord = sorted(num1)\n",
        "print(f\"\\nVetor: {num1_ord}\")"
      ],
      "execution_count": null,
      "outputs": [
        {
          "output_type": "stream",
          "text": [
            "Digite a quantidade de números no vetor: 5\n",
            "Digite um número: 9\n",
            "None\n",
            "Digite um número: 1\n",
            "None\n",
            "Digite um número: 3\n",
            "None\n",
            "Digite um número: 2\n",
            "None\n",
            "Digite um número: 7\n",
            "None\n",
            "\n",
            "Vetor: [1, 2, 3, 7, 9]\n"
          ],
          "name": "stdout"
        }
      ]
    },
    {
      "cell_type": "markdown",
      "metadata": {
        "id": "QgUgg7znE_kC",
        "colab_type": "text"
      },
      "source": [
        "###### 2. Faça um Programa que `leia 4 notas`, __mostre as notas e a média na tela.__"
      ]
    },
    {
      "cell_type": "code",
      "metadata": {
        "id": "9hrzt-nxFKUr",
        "colab_type": "code",
        "colab": {
          "base_uri": "https://localhost:8080/",
          "height": 272
        },
        "outputId": "913dfa19-d6d8-48c6-8a24-1d54407f9664"
      },
      "source": [
        "# solicitando 4 notas e, mostrando a soma das notas e sua média\n",
        "nota1 = float(input(\"Digite 1º nota: \"))\n",
        "print(f\"Nota 1: {nota1}\")\n",
        "nota2 = float(input(\"\\nDigite 2º nota: \"))\n",
        "print(f\"Nota 2: {nota2}\")\n",
        "nota3 = float(input(\"\\nDigite 3º nota: \"))\n",
        "print(f\"Nota 3: {nota3}\")\n",
        "nota4 = float(input(\"\\nDigite 4º nota: \"))\n",
        "print(f\"Nota 4: {nota4}\")\n",
        "\n",
        "print(f\"\\nNotas: \\n>> Total das notas: {nota1 + nota2 + nota3 + nota4} \\n>> Média das notas: {(nota1 + nota2 + nota3 + nota4)/4}\")"
      ],
      "execution_count": null,
      "outputs": [
        {
          "output_type": "stream",
          "text": [
            "Digite a primeira nota: 5\n",
            "Nota 1: 5.0\n",
            "\n",
            "Digite a segunda nota: 7\n",
            "Nota 2: 7.0\n",
            "\n",
            "Digite a terceira nota: 9\n",
            "Nota 3: 9.0\n",
            "\n",
            "Digite a quarta nota: 6\n",
            "Nota 4: 6.0\n",
            "\n",
            "Notas: \n",
            ">> Total das notas: 27.0 \n",
            ">>Média das notas: 6.75\n"
          ],
          "name": "stdout"
        }
      ]
    },
    {
      "cell_type": "code",
      "metadata": {
        "id": "wNdFt0BIaQSQ",
        "colab_type": "code",
        "colab": {
          "base_uri": "https://localhost:8080/",
          "height": 187
        },
        "outputId": "8c057bc6-aa0e-4e79-a3c8-467e4931224b"
      },
      "source": [
        "# criando uma lista com as notas digitadas e imprimindo as em ordem crescente\n",
        "notas = []\n",
        "\n",
        "for i in range(4):\n",
        "  print(notas.append(float(input(\"Digite a nota: \"))))\n",
        "notas_ord = sorted(notas)\n",
        "print(f\"\\nNotas do aluno: {notas_ord}\")"
      ],
      "execution_count": null,
      "outputs": [
        {
          "output_type": "stream",
          "text": [
            "Digite a nota: 2\n",
            "None\n",
            "Digite a nota: 5\n",
            "None\n",
            "Digite a nota: 4\n",
            "None\n",
            "Digite a nota: 3\n",
            "None\n",
            "\n",
            "Notas do aluno: [2.0, 3.0, 4.0, 5.0]\n"
          ],
          "name": "stdout"
        }
      ]
    },
    {
      "cell_type": "code",
      "metadata": {
        "id": "noZ-esWs_f48",
        "colab_type": "code",
        "colab": {
          "base_uri": "https://localhost:8080/",
          "height": 221
        },
        "outputId": "c12f22f9-edb0-4a61-b337-b1778a804489"
      },
      "source": [
        "notas = []\n",
        "media = 0\n",
        "soma = []\n",
        "\n",
        "for i in range(4):\n",
        "  print(notas.append(float(input(\"Digite a nota: \"))))\n",
        "notas_ord = sorted(notas)\n",
        "print(f\"\\nNotas do aluno: {notas_ord}\")\n",
        "\n",
        "for i in range(len(notas)):\n",
        "  media = media + notas[i]\n",
        "  soma = notas[i]\n",
        "#print(media/len(notas)) \n",
        "#print(f\"Soma das notas: {soma}\")\n",
        "print(f\"Média: {media/len(notas)}\")"
      ],
      "execution_count": null,
      "outputs": [
        {
          "output_type": "stream",
          "text": [
            "Digite a nota: 5\n",
            "None\n",
            "Digite a nota: 4\n",
            "None\n",
            "Digite a nota: 9\n",
            "None\n",
            "Digite a nota: 7\n",
            "None\n",
            "\n",
            "Notas do aluno: [4.0, 5.0, 7.0, 9.0]\n",
            "Soma das notas: 7.0\n",
            "Média: 6.25\n"
          ],
          "name": "stdout"
        }
      ]
    },
    {
      "cell_type": "code",
      "metadata": {
        "id": "xObG5T5GfrIp",
        "colab_type": "code",
        "colab": {
          "base_uri": "https://localhost:8080/",
          "height": 34
        },
        "outputId": "3c695511-0d17-4baf-a22c-7c435892d887"
      },
      "source": [
        "notas = [8.2, 5.0, 7.1]\n",
        "media = 0\n",
        "for i in range(len(notas)):\n",
        "  media = media + notas[i]\n",
        "print(media/len(notas)) "
      ],
      "execution_count": null,
      "outputs": [
        {
          "output_type": "stream",
          "text": [
            "6.766666666666666\n"
          ],
          "name": "stdout"
        }
      ]
    },
    {
      "cell_type": "code",
      "metadata": {
        "id": "In6Nrf6ajc5P",
        "colab_type": "code",
        "colab": {
          "base_uri": "https://localhost:8080/",
          "height": 102
        },
        "outputId": "4f2db73b-5208-4892-ecfa-95f54b20c629"
      },
      "source": [
        "print(sum([float(input(\"Informe a nota: \")) for x in range(4)])/4)"
      ],
      "execution_count": null,
      "outputs": [
        {
          "output_type": "stream",
          "text": [
            "Informe a nota: 5\n",
            "Informe a nota: 4\n",
            "Informe a nota: 7\n",
            "Informe a nota: 8\n",
            "6.0\n"
          ],
          "name": "stdout"
        }
      ]
    },
    {
      "cell_type": "code",
      "metadata": {
        "id": "NuKOrFiKlZTL",
        "colab_type": "code",
        "colab": {
          "base_uri": "https://localhost:8080/",
          "height": 102
        },
        "outputId": "f4fc6b1d-2347-45f2-aa3b-f7dbfdbdecb0"
      },
      "source": [
        "n1 = float( input( \"Informe a nota 1: \") )\n",
        "n2 = float( input( \"Informe a nota 2: \") )\n",
        "n3 = float( input( \"Informe a nota 3: \") )\n",
        "n4 = float( input( \"Informe a nota 4: \") ) \n",
        "media = (n1+n2+n3+n4) / 4\n",
        "print(f\"A média é: {media}\")"
      ],
      "execution_count": null,
      "outputs": [
        {
          "output_type": "stream",
          "text": [
            "Informe a nota 1: 5\n",
            "Informe a nota 2: 8\n",
            "Informe a nota 3: 9\n",
            "Informe a nota 4: 9\n",
            "A média é: 7.75\n"
          ],
          "name": "stdout"
        }
      ]
    },
    {
      "cell_type": "markdown",
      "metadata": {
        "id": "HJIXy-x3FVZo",
        "colab_type": "text"
      },
      "source": [
        "###### 3. Faça um Programa que `leia 20 números inteiros e armazene-os num vetor`. Armazene os `números `__PARES__` no vetor PAR` e os `números `__IMPARES__` no vetor IMPAR`. Imprima os três vetores._"
      ]
    },
    {
      "cell_type": "code",
      "metadata": {
        "id": "1Dc3bB-CEP3j",
        "colab_type": "code",
        "colab": {
          "base_uri": "https://localhost:8080/",
          "height": 459
        },
        "outputId": "49609850-d9f4-46d5-e083-53c9249ce10b"
      },
      "source": [
        "numero = []\n",
        "par = []\n",
        "impar = []\n",
        "\n",
        "for i in range(20):\n",
        "    digito = int(input(\"Digite um número: \"))\n",
        "    numero.append(digito)\n",
        "    if (digito % 2) == 0:\n",
        "        par.append(digito)\n",
        "    else:\n",
        "        impar.append(digito)\n",
        "\n",
        "print(f\"\\nVetor com o total dos números: {(numero)}\")\n",
        "print(f\"\\nVetor com os números pares: {(par)}\")\n",
        "print(f\"\\nVetor com os números ímpares: {(impar)}\")"
      ],
      "execution_count": null,
      "outputs": [
        {
          "output_type": "stream",
          "text": [
            "Digite um número: 1\n",
            "Digite um número: 2\n",
            "Digite um número: 3\n",
            "Digite um número: 4\n",
            "Digite um número: 5\n",
            "Digite um número: 6\n",
            "Digite um número: 7\n",
            "Digite um número: 8\n",
            "Digite um número: 9\n",
            "Digite um número: 10\n",
            "Digite um número: 11\n",
            "Digite um número: 12\n",
            "Digite um número: 13\n",
            "Digite um número: 14\n",
            "Digite um número: 15\n",
            "Digite um número: 16\n",
            "Digite um número: 17\n",
            "Digite um número: 18\n",
            "Digite um número: 19\n",
            "Digite um número: 20\n",
            "\n",
            "Vetor com o total dos números: [1, 2, 3, 4, 5, 6, 7, 8, 9, 10, 11, 12, 13, 14, 15, 16, 17, 18, 19, 20]\n",
            "\n",
            "Vetor com os números pares: [2, 4, 6, 8, 10, 12, 14, 16, 18, 20]\n",
            "\n",
            "Vetor com os números ímpares: [1, 3, 5, 7, 9, 11, 13, 15, 17, 19]\n"
          ],
          "name": "stdout"
        }
      ]
    },
    {
      "cell_type": "code",
      "metadata": {
        "id": "Cr9jbS3ZsvEv",
        "colab_type": "code",
        "colab": {
          "base_uri": "https://localhost:8080/",
          "height": 221
        },
        "outputId": "5907424d-bddd-4f45-fdcc-09a8dc39770d"
      },
      "source": [
        "x = int(input(\"Digite a quantidade de números no vetor: \"))\n",
        "print(\"++++++++++++++++++++++++++++++++++++++++++++\")\n",
        "\n",
        "numero = []\n",
        "par = []\n",
        "impar = []\n",
        "\n",
        "for i in range(x):\n",
        "    digito = int(input(\"Digite um número: \"))\n",
        "    numero.append(digito)\n",
        "    if (digito % 2) == 0:\n",
        "        par.append(digito)\n",
        "    else:\n",
        "        impar.append(digito)\n",
        "\n",
        "print(\"++++++++++++++++++++++++++++++++++++++++++++\")\n",
        "print(\"VETORES: \")\n",
        "print(f\">> Total dos números: {(numero)}\")\n",
        "print(f\">> Números pares: {(par)}\")\n",
        "print(f\">> Números ímpares: {(impar)}\")"
      ],
      "execution_count": null,
      "outputs": [
        {
          "output_type": "stream",
          "text": [
            "Digite a quantidade de números no vetor: 5\n",
            "++++++++++++++++++++++++++++++++++++++++++++\n",
            "Digite um número: 1\n",
            "Digite um número: 4\n",
            "Digite um número: 8\n",
            "Digite um número: 9\n",
            "Digite um número: 3\n",
            "++++++++++++++++++++++++++++++++++++++++++++\n",
            "VETORES: \n",
            ">> Total dos números: [1, 4, 8, 9, 3]\n",
            ">> Números pares: [4, 8]\n",
            ">> Números ímpares: [1, 9, 3]\n"
          ],
          "name": "stdout"
        }
      ]
    },
    {
      "cell_type": "code",
      "metadata": {
        "id": "1ybu6ryAEPvm",
        "colab_type": "code",
        "colab": {
          "base_uri": "https://localhost:8080/",
          "height": 340
        },
        "outputId": "57d06602-f8ae-403c-9494-561c5fe29f14"
      },
      "source": [
        "x = int(input(\"Digite a quantidade de números no vetor: \"))\n",
        "print(\"++++++++++++++++++++++++++++++++++++++++++++\")\n",
        "\n",
        "numero = []\n",
        "par = []\n",
        "impar = []\n",
        "\n",
        "for i in range(x):\n",
        "    digito = int(input(\"\\nDigite um número: \"))\n",
        "    numero.append(digito)\n",
        "    num_ord = sorted(numero)\n",
        "    if (digito % 2) == 0:\n",
        "        par.append(digito)\n",
        "        par_ord = sorted(par)\n",
        "    else:\n",
        "        impar.append(digito)\n",
        "        impar_ord = sorted(impar)\n",
        "\n",
        "print(\"++++++++++++++++++++++++++++++++++++++++++++\")\n",
        "# ordenando os números em ordem crescente\n",
        "print(f\"\\nVetor com o total dos números: {(num_ord)}\") \n",
        "print(f\"\\nVetor com os números pares: {(par_ord)}\")\n",
        "print(f\"\\nVetor com os números ímpares: {(impar_ord)}\")"
      ],
      "execution_count": null,
      "outputs": [
        {
          "output_type": "stream",
          "text": [
            "Digite a quantidade de números no vetor: 5\n",
            "++++++++++++++++++++++++++++++++++++++++++++\n",
            "\n",
            "Digite um número: 1\n",
            "\n",
            "Digite um número: 4\n",
            "\n",
            "Digite um número: 6\n",
            "\n",
            "Digite um número: 8\n",
            "\n",
            "Digite um número: 9\n",
            "++++++++++++++++++++++++++++++++++++++++++++\n",
            "\n",
            "Vetor com o total dos números: [1, 4, 6, 8, 9]\n",
            "\n",
            "Vetor com os números pares: [4, 6, 8]\n",
            "\n",
            "Vetor com os números ímpares: [1, 9]\n"
          ],
          "name": "stdout"
        }
      ]
    },
    {
      "cell_type": "markdown",
      "metadata": {
        "id": "672kRR6aFmsF",
        "colab_type": "text"
      },
      "source": [
        "###### 4.Faça um Programa que `leia um vetor de 5 números inteiros`, _mostre a soma, a multiplicação e os números._"
      ]
    },
    {
      "cell_type": "code",
      "metadata": {
        "id": "h2tEFUl7EPq4",
        "colab_type": "code",
        "colab": {
          "base_uri": "https://localhost:8080/",
          "height": 187
        },
        "outputId": "880ef887-d287-4636-b98d-a45175e21875"
      },
      "source": [
        "lista_numeros = []\n",
        "mult = 1\n",
        "\n",
        "print()\n",
        "for numeros in range(1,6):\n",
        "    #num = int(input('Digite o {}º número: '.format(numeros)))\n",
        "    num = int(input(f\"Digite o {numeros}º número: \"))\n",
        "    lista_numeros.append(num)\n",
        "\n",
        "    # multiplicando os números da lista como string e incrementando como string também\n",
        "    mult = mult * num\n",
        "\n",
        "soma = sum(lista_numeros)\n",
        "\n",
        "#print('\\nOs vetores são: {}\\nA soma dos vetores é: {}\\nA multiplicação dos vetores é: {}'.format(lista_numeros, soma, mult))\n",
        "print(f\"\\nOs vetores são: {lista_numeros} \\nA soma dos vetores é: {soma} \\nA multiplicação dos vetores é: {mult}\")"
      ],
      "execution_count": null,
      "outputs": [
        {
          "output_type": "stream",
          "text": [
            "\n",
            "Digite o 1º número: 5\n",
            "Digite o 2º número: 4\n",
            "Digite o 3º número: 8\n",
            "Digite o 4º número: 7\n",
            "Digite o 5º número: 9\n",
            "\n",
            "Os vetores são: [5, 4, 8, 7, 9] \n",
            "A soma dos vetores é: 33 \n",
            "A multiplicação dos vetores é: 10080\n"
          ],
          "name": "stdout"
        }
      ]
    },
    {
      "cell_type": "code",
      "metadata": {
        "id": "s45ocP71DYMD",
        "colab_type": "code",
        "colab": {
          "base_uri": "https://localhost:8080/",
          "height": 187
        },
        "outputId": "2c0e74cc-f310-4ff5-c06e-0924a5145964"
      },
      "source": [
        "lista_numeros = []\n",
        "mult = 1\n",
        "\n",
        "print()\n",
        "for numeros in range(1,6):\n",
        "    #num = int(input('Digite o {}º número: '.format(numeros)))\n",
        "    num = int(input(f\"Digite o {numeros}º número: \"))\n",
        "    lista_numeros.append(num)\n",
        "    lista_ord = sorted(lista_numeros) # ordenando os números\n",
        "\n",
        "    # multiplicando os números da lista como string e incrementando como string também\n",
        "    mult = mult * num\n",
        "\n",
        "soma = sum(lista_numeros)\n",
        "\n",
        "#print('\\nOs vetores são: {}\\nA soma dos vetores é: {}\\nA multiplicação dos vetores é: {}'.format(lista_numeros, soma, mult))\n",
        "print(f\"\\nOs vetores são: {lista_ord} \\nA soma dos vetores é: {soma} \\nA multiplicação dos vetores é: {mult}\")"
      ],
      "execution_count": null,
      "outputs": [
        {
          "output_type": "stream",
          "text": [
            "\n",
            "Digite o 1º número: 5\n",
            "Digite o 2º número: 7\n",
            "Digite o 3º número: 9\n",
            "Digite o 4º número: 1\n",
            "Digite o 5º número: 3\n",
            "\n",
            "Os vetores são: [1, 3, 5, 7, 9] \n",
            "A soma dos vetores é: 25 \n",
            "A multiplicação dos vetores é: 945\n"
          ],
          "name": "stdout"
        }
      ]
    },
    {
      "cell_type": "markdown",
      "metadata": {
        "id": "tYHNw1i-PL5R",
        "colab_type": "text"
      },
      "source": [
        "###_Exércicios:_"
      ]
    },
    {
      "cell_type": "markdown",
      "metadata": {
        "id": "HPMACZCHOkFm",
        "colab_type": "text"
      },
      "source": [
        "######1. Faça um programa, com uma `função` que necessite de __três argumentos__, e que forneça a __soma desses três argumentos.__"
      ]
    },
    {
      "cell_type": "code",
      "metadata": {
        "id": "pXkhY15JOKhp",
        "colab_type": "code",
        "colab": {
          "base_uri": "https://localhost:8080/",
          "height": 136
        },
        "outputId": "943b1a5c-f613-4c8a-c1dd-6d591aa61d41"
      },
      "source": [
        "print(\"###### SOMA DE TRÊS NÚMEROS ######\")\n",
        "def soma(num1, num2, num3):\n",
        "  return (num1 + num2 + num3)\n",
        "\n",
        "num1 = float(input(\"\\nInforme o primeiro número: \"))\n",
        "num2 = float(input(\"Informe o segundo número: \"))\n",
        "num3 = float(input(\"Informe o terceiro número: \"))\n",
        "print(f\"\\nA soma é: {soma(num1, num2,num3)}\")"
      ],
      "execution_count": null,
      "outputs": [
        {
          "output_type": "stream",
          "text": [
            "###### SOMA DE TRÊS NÚMEROS ######\n",
            "\n",
            "Informe o primeiro número: 5\n",
            "Informe o segundo número: 4\n",
            "Informe o terceiro número: 3\n",
            "\n",
            "A soma é: 12.0\n"
          ],
          "name": "stdout"
        }
      ]
    },
    {
      "cell_type": "code",
      "metadata": {
        "id": "lAO7sd6mSGhK",
        "colab_type": "code",
        "colab": {
          "base_uri": "https://localhost:8080/",
          "height": 102
        },
        "outputId": "7195670b-00a7-453b-f3a6-1029b1453a10"
      },
      "source": [
        "def soma (a, b, c):\n",
        "    s = a + b + c\n",
        "    return s\n",
        "\n",
        "\n",
        "print(\"###### SOMA DE TRÊS NÚMEROS ######\")\n",
        "a = int(input(\"1º número: \"))\n",
        "b = int(input(\"2º número: \"))\n",
        "c = int(input(\"3º número: \"))\n",
        "\n",
        "print(f\"A soma dos números é: {soma (a, b, c)}\")"
      ],
      "execution_count": null,
      "outputs": [
        {
          "output_type": "stream",
          "text": [
            "###### SOMA DE TRÊS NÚMEROS ######\n",
            "1º número: 2\n",
            "2º número: 3\n",
            "3º número: 4\n",
            "A soma dos números é: 9\n"
          ],
          "name": "stdout"
        }
      ]
    },
    {
      "cell_type": "markdown",
      "metadata": {
        "id": "2k0TndAMPa7a",
        "colab_type": "text"
      },
      "source": [
        "######2. Faça um programa, com uma `função` que necessite de um argumento. A função retorna o valor de caractere `‘P’`, __se seu argumento for positivo__, e `‘N’`, __se seu argumento for zero ou negativo.__"
      ]
    },
    {
      "cell_type": "code",
      "metadata": {
        "id": "7k9Xj7XCOKpR",
        "colab_type": "code",
        "colab": {
          "base_uri": "https://localhost:8080/",
          "height": 51
        },
        "outputId": "446313ce-d739-4dc9-80d5-cba3495b32d6"
      },
      "source": [
        "def PositivoOuNegativo (valor):\n",
        "  if valor > 0:\n",
        "    return \"P (positivo)\"\n",
        "\n",
        "  else:\n",
        "    return \"N (negativo)\"\n",
        "\n",
        "num = int(input(\"Digite um número inteiro: \"))\n",
        "print(f\"O número informado é: '{num}'. Portanto é um valor: '{PositivoOuNegativo(num)}'.\")\n"
      ],
      "execution_count": null,
      "outputs": [
        {
          "output_type": "stream",
          "text": [
            "Digite um número inteiro: 5\n",
            "O número informado é: '5'. Portanto é um valor: 'P (positivo)'.\n"
          ],
          "name": "stdout"
        }
      ]
    },
    {
      "cell_type": "code",
      "metadata": {
        "id": "nRYg3E4lclV2",
        "colab_type": "code",
        "colab": {
          "base_uri": "https://localhost:8080/",
          "height": 51
        },
        "outputId": "a9727028-8559-427a-8ec3-f48744fd4cf6"
      },
      "source": [
        "def PositivoOuNegativoOuNeutro (valor):\n",
        "  if valor > 0:\n",
        "    return (\"Positivo\")\n",
        "\n",
        "  elif valor < 0:\n",
        "    return (\"Negativo\")\n",
        "\n",
        "  else:\n",
        "    return (\"Neutro\")\n",
        "\n",
        "num = int(input(\"Digite um número inteiro: \"))\n",
        "print(f\"O número informado é: '{num}'. Portanto é um valor: '{PositivoOuNegativoOuNeutro(num)}'\")\n"
      ],
      "execution_count": null,
      "outputs": [
        {
          "output_type": "stream",
          "text": [
            "Digite um número inteiro: 0\n",
            "O número informado é: '0'. Portanto é um número: 'Neutro'\n"
          ],
          "name": "stdout"
        }
      ]
    },
    {
      "cell_type": "code",
      "metadata": {
        "id": "jEy4I9Qxd0M3",
        "colab_type": "code",
        "colab": {
          "base_uri": "https://localhost:8080/",
          "height": 51
        },
        "outputId": "6ba254fa-8679-4b92-e862-cbfeba65d59e"
      },
      "source": [
        "def imprime_sinal(n):\n",
        "    if n < 0:\n",
        "      print(\"Negativo\")\n",
        "    else:\n",
        "      print(\"Positivo\")\n",
        "\n",
        "imprime_sinal(-1)\n",
        "imprime_sinal(5)\n"
      ],
      "execution_count": null,
      "outputs": [
        {
          "output_type": "stream",
          "text": [
            "Negativo\n",
            "Positivo\n"
          ],
          "name": "stdout"
        }
      ]
    },
    {
      "cell_type": "code",
      "metadata": {
        "id": "7ZtQBbb3sFXa",
        "colab_type": "code",
        "colab": {
          "base_uri": "https://localhost:8080/",
          "height": 119
        },
        "outputId": "63cb6d87-2fc1-4abc-a23a-8a9c1e20688d"
      },
      "source": [
        "def PositivoOuNegativo (valor):\n",
        "  if valor > 0:\n",
        "    return \"P (positivo)\"\n",
        "\n",
        "  else:\n",
        "    return \"N (negativo)\"\n",
        "\n",
        "num1 = int(input(\"Digite um número inteiro: \"))\n",
        "num2 = int(input(\"Digite um número inteiro: \"))\n",
        "\n",
        "print(f\"\\nO primeiro número informado é: '{num1}'. Portanto é um valor: '{PositivoOuNegativo(num1)}'.\")\n",
        "print(f\"\\nO segundo número informado é: '{num2}'. Portanto é um valor: '{PositivoOuNegativo(num2)}'.\")"
      ],
      "execution_count": null,
      "outputs": [
        {
          "output_type": "stream",
          "text": [
            "Digite um número inteiro: -4\n",
            "Digite um número inteiro: 8\n",
            "\n",
            "O primeiro número informado é: '-4'. Portanto é um valor: 'N (negativo)'.\n",
            "\n",
            "O segundo número informado é: '8'. Portanto é um valor: 'P (positivo)'.\n"
          ],
          "name": "stdout"
        }
      ]
    },
    {
      "cell_type": "code",
      "metadata": {
        "id": "hPMk7Lkmt2Bg",
        "colab_type": "code",
        "colab": {
          "base_uri": "https://localhost:8080/",
          "height": 119
        },
        "outputId": "302aa894-8514-405e-9962-4acd367c4409"
      },
      "source": [
        "def PositivoOuNegativoOuNeutro (valor):\n",
        "  if valor > 0:\n",
        "    return (\"Positivo\")\n",
        "\n",
        "  elif valor < 0:\n",
        "    return (\"Negativo\")\n",
        "\n",
        "  else:\n",
        "    return (\"Neutro\")\n",
        "\n",
        "num1 = int(input(\"Digite o 1º inteiro: \"))\n",
        "num2 = int(input(\"Digite o 2º inteiro: \"))\n",
        "\n",
        "print(f\"\\nO 1º número informado é: '{num1}'. Portanto é um valor: '{PositivoOuNegativoOuNeutro(num1)}'.\")\n",
        "print(f\"\\nO 2º número informado é: '{num2}'. Portanto é um valor: '{PositivoOuNegativoOuNeutro(num2)}'.\")"
      ],
      "execution_count": null,
      "outputs": [
        {
          "output_type": "stream",
          "text": [
            "Digite um número inteiro: 0\n",
            "Digite um número inteiro: 0\n",
            "\n",
            "O primeiro número informado é: '0'. Portanto é um valor: 'Neutro'.\n",
            "\n",
            "O segundo número informado é: '0'. Portanto é um valor: 'Neutro'.\n"
          ],
          "name": "stdout"
        }
      ]
    },
    {
      "cell_type": "markdown",
      "metadata": {
        "id": "29s8-thOPjcW",
        "colab_type": "text"
      },
      "source": [
        "######3. Faça uma `função` que __retorne o reverso de um número inteiro informado__. _Por exemplo: 127 -> 721._"
      ]
    },
    {
      "cell_type": "code",
      "metadata": {
        "id": "m7IxrUwaOK3H",
        "colab_type": "code",
        "colab": {
          "base_uri": "https://localhost:8080/",
          "height": 68
        },
        "outputId": "1315a866-501d-4b3d-a4a8-35108cf74ae2"
      },
      "source": [
        "def numeroInverso (num):\n",
        "  return num[::-1]\n",
        "\n",
        "numero = input(\"Digite um número: \")\n",
        "print(f\"\\nPara o número digitado '{numero}' e, seu inverso é: '{numeroInverso(numero)}'.\")"
      ],
      "execution_count": null,
      "outputs": [
        {
          "output_type": "stream",
          "text": [
            "Digite um número: 258\n",
            "\n",
            "Para o número digitado '258' e, seu inverso é: '852'.\n"
          ],
          "name": "stdout"
        }
      ]
    },
    {
      "cell_type": "code",
      "metadata": {
        "id": "B9IGgRsJlEL1",
        "colab_type": "code",
        "colab": {}
      },
      "source": [
        ""
      ],
      "execution_count": null,
      "outputs": []
    },
    {
      "cell_type": "code",
      "metadata": {
        "id": "j06xJfyolETu",
        "colab_type": "code",
        "colab": {}
      },
      "source": [
        ""
      ],
      "execution_count": null,
      "outputs": []
    },
    {
      "cell_type": "code",
      "metadata": {
        "id": "jtAI12mLlER-",
        "colab_type": "code",
        "colab": {}
      },
      "source": [
        ""
      ],
      "execution_count": null,
      "outputs": []
    },
    {
      "cell_type": "code",
      "metadata": {
        "id": "9rJUaYZvlEIz",
        "colab_type": "code",
        "colab": {}
      },
      "source": [
        ""
      ],
      "execution_count": null,
      "outputs": []
    },
    {
      "cell_type": "code",
      "metadata": {
        "id": "2UtgY-JwlEGN",
        "colab_type": "code",
        "colab": {}
      },
      "source": [
        ""
      ],
      "execution_count": null,
      "outputs": []
    }
  ]
}